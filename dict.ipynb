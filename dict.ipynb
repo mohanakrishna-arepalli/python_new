{
  "nbformat": 4,
  "nbformat_minor": 0,
  "metadata": {
    "colab": {
      "name": "dict.ipynb",
      "provenance": [],
      "collapsed_sections": [],
      "authorship_tag": "ABX9TyNfq1FljGJAr3wCMjtgTfcd",
      "include_colab_link": true
    },
    "kernelspec": {
      "name": "python3",
      "display_name": "Python 3"
    },
    "language_info": {
      "name": "python"
    }
  },
  "cells": [
    {
      "cell_type": "markdown",
      "metadata": {
        "id": "view-in-github",
        "colab_type": "text"
      },
      "source": [
        "<a href=\"https://colab.research.google.com/github/MOHAN0283/python_new/blob/module_2/dict.ipynb\" target=\"_parent\"><img src=\"https://colab.research.google.com/assets/colab-badge.svg\" alt=\"Open In Colab\"/></a>"
      ]
    },
    {
      "cell_type": "code",
      "execution_count": null,
      "metadata": {
        "colab": {
          "base_uri": "https://localhost:8080/"
        },
        "id": "qQ_0J_E-NRZF",
        "outputId": "ef165cd3-7b6a-476a-d5df-02bb0457fdaa"
      },
      "outputs": [
        {
          "output_type": "stream",
          "name": "stdout",
          "text": [
            "{'Name': 'Mohan', 'age': '18', 'ad.no': '0283'}\n",
            "Mohan\n",
            "3\n"
          ]
        }
      ],
      "source": [
        "profile={'Name':'Mohan',\n",
        "         'age':'18',\n",
        "         'ad.no':'0283'}\n",
        "print(profile)\n",
        "print(profile['Name'])        \n",
        "print(len(profile))   "
      ]
    },
    {
      "cell_type": "code",
      "source": [
        "# you can overwrite by definig the data again\n",
        "profile={'Name':'Mohan',\n",
        "         'age':'18',\n",
        "         'ad.no':'0283',\n",
        "         'age':'19'}\n",
        "print(profile)"
      ],
      "metadata": {
        "colab": {
          "base_uri": "https://localhost:8080/"
        },
        "id": "4_OP_kEzOpQX",
        "outputId": "96da53a8-533f-43f9-f982-f346572defc0"
      },
      "execution_count": null,
      "outputs": [
        {
          "output_type": "stream",
          "name": "stdout",
          "text": [
            "{'Name': 'Mohan', 'age': '19', 'ad.no': '0283'}\n"
          ]
        }
      ]
    },
    {
      "cell_type": "code",
      "source": [
        "# get() acessing data\n",
        "profile={'Name':'Mohan',\n",
        "         'age':'18',\n",
        "         'ad.no':'0283',\n",
        "         'age':'19'}\n",
        "print(profile)\n",
        "print(profile['Name'])\n",
        "print(profile.get('Name'))"
      ],
      "metadata": {
        "id": "XBII32SCO6ef",
        "colab": {
          "base_uri": "https://localhost:8080/"
        },
        "outputId": "2ff15720-3f63-455d-bbe0-3d31ac1a79a0"
      },
      "execution_count": null,
      "outputs": [
        {
          "output_type": "stream",
          "name": "stdout",
          "text": [
            "{'Name': 'Mohan', 'age': '19', 'ad.no': '0283'}\n",
            "Mohan\n",
            "Mohan\n"
          ]
        }
      ]
    },
    {
      "cell_type": "code",
      "source": [
        "# keys() acessing data\n",
        "profile={'Name':'Mohan',\n",
        "         'age':'18',\n",
        "         'ad.no':'0283',\n",
        "         'age':'19'}\n",
        "x=profile.keys()\n",
        "print(x)\n"
      ],
      "metadata": {
        "colab": {
          "base_uri": "https://localhost:8080/"
        },
        "id": "IOeWBBy9Pv2-",
        "outputId": "f4977610-4c08-4281-8aca-52a53d8b3ffe"
      },
      "execution_count": null,
      "outputs": [
        {
          "output_type": "stream",
          "name": "stdout",
          "text": [
            "dict_keys(['Name', 'age', 'ad.no'])\n"
          ]
        }
      ]
    },
    {
      "cell_type": "code",
      "source": [
        "# keys() acessing data\n",
        "profile={'Name':'Mohan',\n",
        "         'age':'18',\n",
        "         'ad.no':'0283',\n",
        "         'age':'19'}\n",
        "x=profile.keys()\n",
        "print(x)\n",
        "profile['batch']='cse 25'\n",
        "print(x)"
      ],
      "metadata": {
        "colab": {
          "base_uri": "https://localhost:8080/"
        },
        "id": "t334ZqZCVei2",
        "outputId": "9c487628-5516-4e3e-8692-1621ef355647"
      },
      "execution_count": null,
      "outputs": [
        {
          "output_type": "stream",
          "name": "stdout",
          "text": [
            "dict_keys(['Name', 'age', 'ad.no'])\n",
            "dict_keys(['Name', 'age', 'ad.no', 'batch'])\n"
          ]
        }
      ]
    },
    {
      "cell_type": "code",
      "source": [
        "# values() acessing data\n",
        "profile={'Name':'Mohan',\n",
        "         'age':'18',\n",
        "         'ad.no':'0283',\n",
        "         'age':'19'}\n",
        "x=profile.values()\n",
        "print(x)\n"
      ],
      "metadata": {
        "colab": {
          "base_uri": "https://localhost:8080/"
        },
        "id": "TSsbZTVLW2m4",
        "outputId": "18ec06eb-85a1-4aed-ef95-91ad19bf50d6"
      },
      "execution_count": null,
      "outputs": [
        {
          "output_type": "stream",
          "name": "stdout",
          "text": [
            "dict_values(['Mohan', '19', '0283'])\n"
          ]
        }
      ]
    },
    {
      "cell_type": "code",
      "source": [
        "# keys() acessing data\n",
        "profile={'Name':'Mohan',\n",
        "         'age':'18',\n",
        "         'ad.no':'0283',\n",
        "         'age':'19'}\n",
        "x=profile.values()\n",
        "print(x)\n",
        "profile['batch']='cse 25'\n",
        "print(x)"
      ],
      "metadata": {
        "colab": {
          "base_uri": "https://localhost:8080/"
        },
        "id": "Xq3JdNpnXDmo",
        "outputId": "32f7b257-de83-4ddf-ac7d-9d91ccd6c0ee"
      },
      "execution_count": null,
      "outputs": [
        {
          "output_type": "stream",
          "name": "stdout",
          "text": [
            "dict_values(['Mohan', '19', '0283'])\n",
            "dict_values(['Mohan', '19', '0283', 'cse 25'])\n"
          ]
        }
      ]
    },
    {
      "cell_type": "code",
      "source": [
        "# items() acessing data\n",
        "profile={'Name':'Mohan',\n",
        "         'age':'18',\n",
        "         'ad.no':'0283',\n",
        "         'age':'19'}\n",
        "x=profile.items()\n",
        "print(x)"
      ],
      "metadata": {
        "colab": {
          "base_uri": "https://localhost:8080/"
        },
        "id": "HSsxoteoXNEe",
        "outputId": "16603901-6c33-4e39-e9bf-302873d18eca"
      },
      "execution_count": null,
      "outputs": [
        {
          "output_type": "stream",
          "name": "stdout",
          "text": [
            "dict_items([('Name', 'Mohan'), ('age', '19'), ('ad.no', '0283')])\n"
          ]
        }
      ]
    },
    {
      "cell_type": "code",
      "source": [
        "# items() acessing data\n",
        "profile={'Name':'Mohan',\n",
        "         'age':'18',\n",
        "         'ad.no':'0283',\n",
        "         'age':'19'}\n",
        "x=profile.items()\n",
        "print(x)\n",
        "profile['batch']='cse 25'\n",
        "print(x)"
      ],
      "metadata": {
        "colab": {
          "base_uri": "https://localhost:8080/"
        },
        "id": "XTH7uW4GXp0_",
        "outputId": "aef8b0a6-c708-4b3f-91c4-b91b3ff6314d"
      },
      "execution_count": null,
      "outputs": [
        {
          "output_type": "stream",
          "name": "stdout",
          "text": [
            "dict_items([('Name', 'Mohan'), ('age', '19'), ('ad.no', '0283')])\n",
            "dict_items([('Name', 'Mohan'), ('age', '19'), ('ad.no', '0283'), ('batch', 'cse 25')])\n"
          ]
        }
      ]
    },
    {
      "cell_type": "code",
      "source": [
        "# items() acessing data\n",
        "profile={'Name':'Mohan',\n",
        "         'age':'18',\n",
        "         'ad.no':'0283',\n",
        "         'age':'19'}\n",
        "if 'Name' in profile:\n",
        "  print(\"t\")\n"
      ],
      "metadata": {
        "colab": {
          "base_uri": "https://localhost:8080/"
        },
        "id": "ChhUztopXvpe",
        "outputId": "f119f94e-82f5-4db2-c210-2de91faf9938"
      },
      "execution_count": null,
      "outputs": [
        {
          "output_type": "stream",
          "name": "stdout",
          "text": [
            "t\n"
          ]
        }
      ]
    },
    {
      "cell_type": "code",
      "source": [
        "# changing items\n",
        "profile={'Name':'Mohan',\n",
        "         'age':'18',\n",
        "         'ad.no':'0283',\n",
        "         'age':'19'}\n",
        "profile['age']='18'\n",
        "print(profile)"
      ],
      "metadata": {
        "colab": {
          "base_uri": "https://localhost:8080/"
        },
        "id": "Z8SI2GboYQUm",
        "outputId": "5554309e-7fc6-418f-8514-b664cf4bfd9a"
      },
      "execution_count": null,
      "outputs": [
        {
          "output_type": "stream",
          "name": "stdout",
          "text": [
            "{'Name': 'Mohan', 'age': '18', 'ad.no': '0283'}\n"
          ]
        }
      ]
    },
    {
      "cell_type": "code",
      "source": [
        "# using update()\n",
        "profile={'Name':'Mohan',\n",
        "         'age':'18',\n",
        "         'ad.no':'0283'}\n",
        "profile.update({'age':'19'})\n",
        "print(profile)"
      ],
      "metadata": {
        "colab": {
          "base_uri": "https://localhost:8080/"
        },
        "id": "x1emggE3YSbm",
        "outputId": "17f26d92-4d18-41ac-f071-e81a6f79e616"
      },
      "execution_count": null,
      "outputs": [
        {
          "output_type": "stream",
          "name": "stdout",
          "text": [
            "{'Name': 'Mohan', 'age': '19', 'ad.no': '0283'}\n"
          ]
        }
      ]
    },
    {
      "cell_type": "code",
      "source": [
        "# adding items\n",
        "profile={'Name':'Mohan',\n",
        "         'age':'18',\n",
        "         'ad.no':'0283'}\n",
        "profile['batch']='cse 25'\n",
        "print(profile)"
      ],
      "metadata": {
        "colab": {
          "base_uri": "https://localhost:8080/"
        },
        "id": "SS0LPv8TZmOu",
        "outputId": "cda653ac-05a9-490f-df49-31c4146df71f"
      },
      "execution_count": null,
      "outputs": [
        {
          "output_type": "stream",
          "name": "stdout",
          "text": [
            "{'Name': 'Mohan', 'age': '18', 'ad.no': '0283', 'batch': 'cse 25'}\n"
          ]
        }
      ]
    },
    {
      "cell_type": "code",
      "source": [
        "# removing items using pop()\n",
        "profile={'Name':'Mohan',\n",
        "         'age':'18',\n",
        "         'ad.no':'0283'}\n",
        "profile.pop(\"age\")\n",
        "print(profile)"
      ],
      "metadata": {
        "id": "YXP1TtGOZ7ra",
        "colab": {
          "base_uri": "https://localhost:8080/"
        },
        "outputId": "7c57ead8-0832-4e84-b417-450c1c4343b1"
      },
      "execution_count": null,
      "outputs": [
        {
          "output_type": "stream",
          "name": "stdout",
          "text": [
            "{'Name': 'Mohan', 'ad.no': '0283'}\n"
          ]
        }
      ]
    },
    {
      "cell_type": "code",
      "source": [
        "# removing items using popitem() removes last entered\n",
        "profile={'Name':'Mohan',\n",
        "         'age':'18',\n",
        "         'ad.no':'0283'}\n",
        "profile.popitem()\n",
        "print(profile)"
      ],
      "metadata": {
        "colab": {
          "base_uri": "https://localhost:8080/"
        },
        "id": "RAUyxvRSHWiH",
        "outputId": "148f15af-16ec-415e-a827-27942fd74ba9"
      },
      "execution_count": null,
      "outputs": [
        {
          "output_type": "stream",
          "name": "stdout",
          "text": [
            "{'Name': 'Mohan', 'age': '18'}\n"
          ]
        }
      ]
    },
    {
      "cell_type": "code",
      "source": [
        "# removing items using del\n",
        "profile={'Name':'Mohan',\n",
        "         'age':'18',\n",
        "         'ad.no':'0283'}\n",
        "del profile['age']\n",
        "print(profile)\n",
        "# it can be used to delete the complete dict"
      ],
      "metadata": {
        "colab": {
          "base_uri": "https://localhost:8080/"
        },
        "id": "vOSOw-qgHfbC",
        "outputId": "c7805125-5dc2-4a38-9c40-0c78241c409b"
      },
      "execution_count": null,
      "outputs": [
        {
          "output_type": "stream",
          "name": "stdout",
          "text": [
            "{'Name': 'Mohan', 'ad.no': '0283'}\n"
          ]
        }
      ]
    },
    {
      "cell_type": "code",
      "source": [
        "# removing items using clear\n",
        "profile={'Name':'Mohan',\n",
        "         'age':'18',\n",
        "         'ad.no':'0283'}\n",
        "profile.clear()\n",
        "print(profile)"
      ],
      "metadata": {
        "colab": {
          "base_uri": "https://localhost:8080/"
        },
        "id": "w9zEjNdMIWNB",
        "outputId": "20c0a388-99fa-4b09-d7c2-6ff298866dd5"
      },
      "execution_count": null,
      "outputs": [
        {
          "output_type": "stream",
          "name": "stdout",
          "text": [
            "{}\n"
          ]
        }
      ]
    },
    {
      "cell_type": "code",
      "source": [
        "# loops\n",
        "profile={'Name':'Mohan',\n",
        "         'age':'18',\n",
        "         'ad.no':'0283'}\n",
        "for x in profile:\n",
        "  print(x)"
      ],
      "metadata": {
        "colab": {
          "base_uri": "https://localhost:8080/"
        },
        "id": "-U034E5BIpkI",
        "outputId": "4e88f3ff-d2b5-49b3-a6eb-6463ff206883"
      },
      "execution_count": null,
      "outputs": [
        {
          "output_type": "stream",
          "name": "stdout",
          "text": [
            "Name\n",
            "age\n",
            "ad.no\n"
          ]
        }
      ]
    },
    {
      "cell_type": "code",
      "source": [
        "# loops\n",
        "profile={'Name':'Mohan',\n",
        "         'age':'18',\n",
        "         'ad.no':'0283'}\n",
        "for x in profile:\n",
        "  print(profile[x])"
      ],
      "metadata": {
        "colab": {
          "base_uri": "https://localhost:8080/"
        },
        "id": "tBvDmSAtJDRX",
        "outputId": "50a7a621-279d-4217-a9c2-24b827c4e62d"
      },
      "execution_count": null,
      "outputs": [
        {
          "output_type": "stream",
          "name": "stdout",
          "text": [
            "Mohan\n",
            "18\n",
            "0283\n"
          ]
        }
      ]
    },
    {
      "cell_type": "code",
      "source": [
        "# loops\n",
        "profile={'Name':'Mohan',\n",
        "         'age':'18',\n",
        "         'ad.no':'0283'}\n",
        "for x in profile.values():\n",
        "  print(x)"
      ],
      "metadata": {
        "colab": {
          "base_uri": "https://localhost:8080/"
        },
        "id": "QKNH8mXCJOXg",
        "outputId": "e8a8e217-f4c5-40c1-adfc-16afed7e0e0a"
      },
      "execution_count": null,
      "outputs": [
        {
          "output_type": "stream",
          "name": "stdout",
          "text": [
            "Mohan\n",
            "18\n",
            "0283\n"
          ]
        }
      ]
    },
    {
      "cell_type": "code",
      "source": [
        "# loops\n",
        "profile={'Name':'Mohan',\n",
        "         'age':'18',\n",
        "         'ad.no':'0283'}\n",
        "for x in profile.keys():\n",
        "  print(x)"
      ],
      "metadata": {
        "colab": {
          "base_uri": "https://localhost:8080/"
        },
        "id": "xgNSRd8YJYLF",
        "outputId": "98942eaf-cc1d-4bb7-b8b2-59aa296822b2"
      },
      "execution_count": null,
      "outputs": [
        {
          "output_type": "stream",
          "name": "stdout",
          "text": [
            "Name\n",
            "age\n",
            "ad.no\n"
          ]
        }
      ]
    },
    {
      "cell_type": "code",
      "source": [
        "# loops\n",
        "profile={'Name':'Mohan',\n",
        "         'age':'18',\n",
        "         'ad.no':'0283'}\n",
        "for x,y in profile.items():\n",
        "  print(x,y)"
      ],
      "metadata": {
        "colab": {
          "base_uri": "https://localhost:8080/"
        },
        "id": "Q_gXVcq8Jbya",
        "outputId": "4a8da878-a0b2-4a9d-b202-e07b7e43d81e"
      },
      "execution_count": null,
      "outputs": [
        {
          "output_type": "stream",
          "name": "stdout",
          "text": [
            "Name Mohan\n",
            "age 18\n",
            "ad.no 0283\n"
          ]
        }
      ]
    },
    {
      "cell_type": "code",
      "source": [
        "# copiying dict\n",
        "profile={'Name':'Mohan',\n",
        "         'age':'18',\n",
        "         'ad.no':'0283'}\n",
        "newprofile=profile.copy()\n",
        "print(newprofile)"
      ],
      "metadata": {
        "colab": {
          "base_uri": "https://localhost:8080/"
        },
        "id": "-BGDXAydJmP3",
        "outputId": "431b473a-32ce-4fbf-9a37-5dfaf9fe892b"
      },
      "execution_count": null,
      "outputs": [
        {
          "output_type": "stream",
          "name": "stdout",
          "text": [
            "{'Name': 'Mohan', 'age': '18', 'ad.no': '0283'}\n"
          ]
        }
      ]
    },
    {
      "cell_type": "code",
      "source": [
        "# copiying dict using dict()\n",
        "profile={'Name':'Mohan',\n",
        "         'age':'18',\n",
        "         'ad.no':'0283'}\n",
        "newprofile=dict(profile)\n",
        "print(newprofile)"
      ],
      "metadata": {
        "colab": {
          "base_uri": "https://localhost:8080/"
        },
        "id": "4947x23fJ6LQ",
        "outputId": "6f746f26-0eb3-469c-ec9b-a6e29031a59c"
      },
      "execution_count": null,
      "outputs": [
        {
          "output_type": "stream",
          "name": "stdout",
          "text": [
            "{'Name': 'Mohan', 'age': '18', 'ad.no': '0283'}\n"
          ]
        }
      ]
    },
    {
      "cell_type": "code",
      "source": [
        "students = {\n",
        "  \"stu1\" : {\n",
        "    \"name\" : \"ram\",\n",
        "    \"rank\" : '1'\n",
        "  },\n",
        "    \"stu2\" : {\n",
        "    \"name\" : \"charan\",\n",
        "    \"rank\" : '2'\n",
        "  },\n",
        "   \"stu3\" : {\n",
        "    \"name\" : \"yash\",\n",
        "    \"rank\" : '3'\n",
        "  }\n",
        "}\n",
        "print(students)"
      ],
      "metadata": {
        "colab": {
          "base_uri": "https://localhost:8080/"
        },
        "id": "l8cFdyKiKXCo",
        "outputId": "acbe77b6-d979-45b7-f732-d8a8626dd6a4"
      },
      "execution_count": null,
      "outputs": [
        {
          "output_type": "stream",
          "name": "stdout",
          "text": [
            "{'stu1': {'name': 'ram', 'rank': '1'}, 'stu2': {'name': 'charan', 'rank': '2'}, 'stu3': {'name': 'yash', 'rank': '3'}}\n"
          ]
        }
      ]
    },
    {
      "cell_type": "code",
      "source": [
        "stu1 = {\n",
        "  \"name\" : \"ram\",\n",
        "  \"rank\" : '1'\n",
        "}\n",
        "stu2 = {\n",
        "  \"name\" : \"shyam\",\n",
        "  \"rank\" : '2'\n",
        "}\n",
        "stu3 = {\n",
        "  \"name\" : \"yash\",\n",
        "  \"rank\" : '3'\n",
        "}\n",
        "\n",
        "students = {\n",
        "  \"stu1\" : stu1,\n",
        "  \"stu2\" : stu2,\n",
        "  \"stu3\" : stu3\n",
        "}\n",
        "print(students)\n"
      ],
      "metadata": {
        "colab": {
          "base_uri": "https://localhost:8080/"
        },
        "id": "5N5H19EILq_n",
        "outputId": "20e270ac-1a94-40a0-f768-3da7de4463f8"
      },
      "execution_count": null,
      "outputs": [
        {
          "output_type": "stream",
          "name": "stdout",
          "text": [
            "{'stu1': {'name': 'ram', 'rank': '1'}, 'stu2': {'name': 'shyam', 'rank': '2'}, 'stu3': {'name': 'yash', 'rank': '3'}}\n"
          ]
        }
      ]
    }
  ]
}