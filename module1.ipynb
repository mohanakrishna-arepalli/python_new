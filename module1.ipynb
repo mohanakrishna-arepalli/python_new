{
  "nbformat": 4,
  "nbformat_minor": 0,
  "metadata": {
    "colab": {
      "name": "module1.ipynb",
      "provenance": [],
      "collapsed_sections": [],
      "authorship_tag": "ABX9TyOiMRsx8oK5otlzr4qxYPiP",
      "include_colab_link": true
    },
    "kernelspec": {
      "name": "python3",
      "display_name": "Python 3"
    },
    "language_info": {
      "name": "python"
    }
  },
  "cells": [
    {
      "cell_type": "markdown",
      "metadata": {
        "id": "view-in-github",
        "colab_type": "text"
      },
      "source": [
        "<a href=\"https://colab.research.google.com/github/MOHAN0283/python_new/blob/module_1/module1.ipynb\" target=\"_parent\"><img src=\"https://colab.research.google.com/assets/colab-badge.svg\" alt=\"Open In Colab\"/></a>"
      ]
    },
    {
      "cell_type": "code",
      "execution_count": null,
      "metadata": {
        "colab": {
          "base_uri": "https://localhost:8080/"
        },
        "id": "rYFBIS6pWOaG",
        "outputId": "f179125b-9c50-479e-fcd7-4e08903bcae5"
      },
      "outputs": [
        {
          "output_type": "stream",
          "name": "stdout",
          "text": [
            "Enter a number:2\n",
            "2\n"
          ]
        }
      ],
      "source": [
        "a=int(input(\"Enter a number:\"))\n",
        "print(a)\n",
        "\n"
      ]
    },
    {
      "cell_type": "code",
      "source": [
        ""
      ],
      "metadata": {
        "id": "YGaO6K-2C9ou"
      },
      "execution_count": null,
      "outputs": []
    },
    {
      "cell_type": "code",
      "source": [
        "a=1\n",
        "b='1'\n",
        "c='a'\n",
        "d=\"The value of {} is {},{}\"\n",
        "print(d.format(c,a,b))"
      ],
      "metadata": {
        "colab": {
          "base_uri": "https://localhost:8080/"
        },
        "id": "MCQyBu94XN_V",
        "outputId": "b4d93b06-0fe9-40b9-92d6-0bdc4e674f0c"
      },
      "execution_count": null,
      "outputs": [
        {
          "output_type": "stream",
          "name": "stdout",
          "text": [
            "The value of a is 1,1\n"
          ]
        }
      ]
    },
    {
      "cell_type": "code",
      "source": [
        "a=int(input(\"Enter a number:\"))\n",
        "b=int(input(\"Enter a number:\"))\n",
        "print(a+b,a-b,a*b,a//b,a/b,a%b)"
      ],
      "metadata": {
        "colab": {
          "base_uri": "https://localhost:8080/"
        },
        "id": "fzvjvUi6f1Rm",
        "outputId": "0a498322-79d7-429f-e1a8-d1835213642a"
      },
      "execution_count": null,
      "outputs": [
        {
          "output_type": "stream",
          "name": "stdout",
          "text": [
            "Enter a number:6\n",
            "Enter a number:2\n",
            "8 4 12 3 3.0 0\n"
          ]
        }
      ]
    },
    {
      "cell_type": "code",
      "source": [
        "c=int(input(\"Enter Temparature in celsius:\"))\n",
        "km=int(input(\"Enter distance in km :\"))\n",
        "f=(c*9)//5+32\n",
        "m=6.2*km\n",
        "d='The temparature in F is {} and distance in miles is {}'\n",
        "print(d.format(f,m))"
      ],
      "metadata": {
        "colab": {
          "base_uri": "https://localhost:8080/"
        },
        "id": "JsuLWck9ggyN",
        "outputId": "8f68f978-cfa4-4310-944a-72f7a1e74e15"
      },
      "execution_count": null,
      "outputs": [
        {
          "output_type": "stream",
          "name": "stdout",
          "text": [
            "Enter Temparature in celsius:0\n",
            "Enter distance in km :1\n",
            "The temparature in F is 32 and distance in miles is 6.2\n"
          ]
        }
      ]
    },
    {
      "cell_type": "code",
      "source": [
        "import math\n",
        "print(math.ceil(2.1))\n",
        "print(math.floor(2.1))\n",
        "print(math.fabs(2))\n",
        "print(math.fmod(4,2))\n",
        "print(math.trunc(2.22222))\n",
        "print(math.pow(2,2))\n",
        "print(math.sqrt(4))"
      ],
      "metadata": {
        "colab": {
          "base_uri": "https://localhost:8080/"
        },
        "id": "QoRgMan5m0wN",
        "outputId": "4321a94d-ed77-43bc-cb78-0bf233c41c84"
      },
      "execution_count": null,
      "outputs": [
        {
          "output_type": "stream",
          "name": "stdout",
          "text": [
            "3\n",
            "2\n",
            "2.0\n",
            "0.0\n",
            "2\n",
            "4.0\n",
            "2.0\n"
          ]
        }
      ]
    },
    {
      "cell_type": "code",
      "source": [
        "a=int(input(\"enter the number:\"))\n",
        "b=int(input(\"enter the number:\"))\n",
        "o=str(input(\"Select the operation:\"))\n",
        "if o=='+':\n",
        "  print(a+b)\n",
        "elif o=='-':\n",
        "  print(a-b)\n",
        "elif o=='*':\n",
        "  print(a*b)\n",
        "elif o=='/':\n",
        "  print(a/b)"
      ],
      "metadata": {
        "colab": {
          "base_uri": "https://localhost:8080/"
        },
        "id": "w2zzDCZ-PXwc",
        "outputId": "75b43019-efd7-41c3-c9a1-7b0c5180fd91"
      },
      "execution_count": null,
      "outputs": [
        {
          "output_type": "stream",
          "name": "stdout",
          "text": [
            "enter the number:2\n",
            "enter the number:3\n",
            "Select the operation:+\n",
            "5\n"
          ]
        }
      ]
    },
    {
      "cell_type": "code",
      "source": [
        "a=int(input(\"enter marks in M:\"))\n",
        "b=int(input(\"enter marks in P:\"))\n",
        "c=int(input(\"enter marks in C:\"))\n",
        "d=int(input(\"enter marks in B:\"))\n",
        "e=int(input(\"enter marks in E:\"))\n",
        "avg=(a+b+c+d+e)/5\n",
        "if avg>=90 and avg<=100:\n",
        "  print(\"A+\")\n",
        "elif avg>=80 and avg<=89:\n",
        "  print(\"A\")\n",
        "elif avg>=70 and avg<=79:\n",
        "  print(\"B\")\n",
        "elif avg>=60 and avg<=69:\n",
        "  print(\"C\")\n",
        "else:\n",
        "  print(\"D\")"
      ],
      "metadata": {
        "id": "ly7Gm00iTiyr"
      },
      "execution_count": null,
      "outputs": []
    },
    {
      "cell_type": "code",
      "source": [
        "a=int(input(\"enter min range:\"))\n",
        "b=int(input(\"enter max range:\"))\n",
        "e=0\n",
        "o=0\n",
        "print(\"EVEN:\")\n",
        "for i in range(a,b):\n",
        "  if(i%2==0):\n",
        "    print(i)\n",
        "    e=e+1\n",
        "print(\"ODD:\")\n",
        "for i in range(a,b):\n",
        "  if(i%2!=0):\n",
        "    print(i)\n",
        "    o=o+1\n",
        "print(e,o)"
      ],
      "metadata": {
        "id": "RWZjFrEPSdYD",
        "colab": {
          "base_uri": "https://localhost:8080/"
        },
        "outputId": "6e4976b9-85f6-4d8f-e4eb-8f130de1a3a4"
      },
      "execution_count": null,
      "outputs": [
        {
          "output_type": "stream",
          "name": "stdout",
          "text": [
            "enter min range:1\n",
            "enter max range:10\n",
            "EVEN:\n",
            "2\n",
            "4\n",
            "6\n",
            "8\n",
            "ODD:\n",
            "1\n",
            "3\n",
            "5\n",
            "7\n",
            "9\n",
            "4 5\n"
          ]
        }
      ]
    },
    {
      "cell_type": "code",
      "source": [
        "a=int(input(\"enter the number:\"))\n",
        "fact=1\n",
        "for i in range(1,a+1):\n",
        "  fact=fact*i\n",
        "print(fact)"
      ],
      "metadata": {
        "id": "t_g6CleCVOoT",
        "colab": {
          "base_uri": "https://localhost:8080/"
        },
        "outputId": "bef03a5d-da26-43d7-d6be-3c59c2a66fbf"
      },
      "execution_count": null,
      "outputs": [
        {
          "output_type": "stream",
          "name": "stdout",
          "text": [
            "enter the number:4\n",
            "24\n"
          ]
        }
      ]
    },
    {
      "cell_type": "code",
      "source": [
        "a=int(input(\"enter the number::\"))\n",
        "b=int(input(\"enter the number:\"))\n",
        "if(a>b):\n",
        "  s=b\n",
        "else:\n",
        "  s=a\n",
        "for i in range(1,s+1):\n",
        "  if(a%i==0)and(b%i==0):\n",
        "    gcd=i\n",
        "print(gcd)   "
      ],
      "metadata": {
        "id": "tvXailClVogz",
        "colab": {
          "base_uri": "https://localhost:8080/"
        },
        "outputId": "524a8b24-a4a8-4fc0-b6a0-c493c08d7fa1"
      },
      "execution_count": null,
      "outputs": [
        {
          "output_type": "stream",
          "name": "stdout",
          "text": [
            "enter the number::10\n",
            "enter the number:20\n",
            "10\n"
          ]
        }
      ]
    },
    {
      "cell_type": "code",
      "source": [
        "a=int(input(\"enter the range of numbers required:\"))\n",
        "n1=0\n",
        "n2=1\n",
        "print(n1)\n",
        "print(n2)\n",
        "for i in range(1,a-1):\n",
        "  n3=n1+n2\n",
        "  print(n3)\n",
        "  n1=n2\n",
        "  n2=n3"
      ],
      "metadata": {
        "id": "m8zp_AkYYni9",
        "colab": {
          "base_uri": "https://localhost:8080/"
        },
        "outputId": "a6e81d89-d746-48e5-8111-c7d1f36b71df"
      },
      "execution_count": null,
      "outputs": [
        {
          "output_type": "stream",
          "name": "stdout",
          "text": [
            "enter the range of numbers required:10\n",
            "0\n",
            "1\n",
            "1\n",
            "2\n",
            "3\n",
            "5\n",
            "8\n",
            "13\n",
            "21\n",
            "34\n"
          ]
        }
      ]
    },
    {
      "cell_type": "code",
      "source": [
        "a=int(input(\"enter the number:\"))\n",
        "sum=0\n",
        "n=a\n",
        "while(a>0):\n",
        "  rem=a%10\n",
        "  sum=sum*10+rem\n",
        "  a=a//10\n",
        "if(n==sum):\n",
        "  print(\"p\")\n",
        "else:\n",
        "  print(\"np\")"
      ],
      "metadata": {
        "colab": {
          "base_uri": "https://localhost:8080/"
        },
        "id": "f4Dq1TamgQbk",
        "outputId": "37645e2b-2649-47ba-bfdb-37823c80ea35"
      },
      "execution_count": null,
      "outputs": [
        {
          "output_type": "stream",
          "name": "stdout",
          "text": [
            "enter the number:626\n",
            "p\n"
          ]
        }
      ]
    },
    {
      "cell_type": "code",
      "source": [
        "a=int(input(\"enter the number:\"))\n",
        "n=a\n",
        "fact=1\n",
        "sum=0\n",
        "while(a>0):\n",
        "  d=a%10\n",
        "  for i in range(1,d+1):\n",
        "    fact=fact*i\n",
        "  sum=sum+fact\n",
        "  fact=1\n",
        "  a=a//10\n",
        "if(n==sum):\n",
        "  print(\"s\")\n",
        "else:\n",
        "  print(\"ns\")"
      ],
      "metadata": {
        "colab": {
          "base_uri": "https://localhost:8080/"
        },
        "id": "m5wYBiDzhZGe",
        "outputId": "222956c2-1efa-4ab5-836e-bd09c2f6981d"
      },
      "execution_count": null,
      "outputs": [
        {
          "output_type": "stream",
          "name": "stdout",
          "text": [
            "enter the number:145\n",
            "ns\n"
          ]
        }
      ]
    },
    {
      "cell_type": "code",
      "source": [
        "a=int(input(\"enter the number:\"))\n",
        "n=a\n",
        "sum=0\n",
        "for i in range(1,a):\n",
        "  if(a%i==0):\n",
        "    sum=sum+i\n",
        "if(n==sum):\n",
        "  print(\"p\")\n",
        "else:\n",
        "  print(\"np\")"
      ],
      "metadata": {
        "colab": {
          "base_uri": "https://localhost:8080/"
        },
        "id": "oLQsfvpSjlFd",
        "outputId": "8cef9612-6ca7-4910-9ed1-52aae9c078cf"
      },
      "execution_count": null,
      "outputs": [
        {
          "output_type": "stream",
          "name": "stdout",
          "text": [
            "enter the number:6\n",
            "p\n"
          ]
        }
      ]
    },
    {
      "cell_type": "code",
      "source": [
        "n=int(input(\"Enter the principle amount:\"))\n",
        "rate=int(input(\"Enter the rate:\"))\n",
        "years=int(input(\"Enter the number of years:\"))\n",
        "\n",
        "for i in range(years):\n",
        "    n=n+((n*rate)/100)\n",
        "print(n)"
      ],
      "metadata": {
        "colab": {
          "base_uri": "https://localhost:8080/"
        },
        "id": "nSFCP_oykTN7",
        "outputId": "5b9b6812-202a-4105-a344-df0280bc5e92"
      },
      "execution_count": null,
      "outputs": [
        {
          "output_type": "stream",
          "name": "stdout",
          "text": [
            "Enter the principle amount:1\n",
            "Enter the rate:2\n",
            "Enter the number of years:3\n",
            "1.061208\n"
          ]
        }
      ]
    },
    {
      "cell_type": "code",
      "source": [
        "thistuple = tuple((\"apple\", \"banana\", \"cherry\")) # note the double round-brackets\n",
        "print(thistuple)"
      ],
      "metadata": {
        "colab": {
          "base_uri": "https://localhost:8080/"
        },
        "id": "vi6Tp9jUnZE5",
        "outputId": "a69dd118-452b-41e6-8473-542f2853bb57"
      },
      "execution_count": null,
      "outputs": [
        {
          "output_type": "stream",
          "name": "stdout",
          "text": [
            "('apple', 'banana', 'cherry')\n"
          ]
        }
      ]
    }
  ]
}