{
  "nbformat": 4,
  "nbformat_minor": 0,
  "metadata": {
    "colab": {
      "name": "Module2.ipynb",
      "provenance": [],
      "collapsed_sections": [],
      "authorship_tag": "ABX9TyOMq2HZmwFNvQXFypK/L1eM",
      "include_colab_link": true
    },
    "kernelspec": {
      "name": "python3",
      "display_name": "Python 3"
    },
    "language_info": {
      "name": "python"
    }
  },
  "cells": [
    {
      "cell_type": "markdown",
      "metadata": {
        "id": "view-in-github",
        "colab_type": "text"
      },
      "source": [
        "<a href=\"https://colab.research.google.com/github/MOHAN0283/python_new/blob/module_2/Module2.ipynb\" target=\"_parent\"><img src=\"https://colab.research.google.com/assets/colab-badge.svg\" alt=\"Open In Colab\"/></a>"
      ]
    },
    {
      "cell_type": "code",
      "execution_count": null,
      "metadata": {
        "colab": {
          "base_uri": "https://localhost:8080/"
        },
        "id": "4chSUAoBY-Gv",
        "outputId": "1c1dd156-eec5-4ba5-f8bc-283a8ab9bf8e"
      },
      "outputs": [
        {
          "output_type": "stream",
          "name": "stdout",
          "text": [
            "Yellow\n",
            "['Green', 'White', 'Black']\n"
          ]
        }
      ],
      "source": [
        "#Program to print a specified list after removing the 0th, 4th and 5th elements. \n",
        "List1=['Red','Green','White','Black','Pink','Yellow'] \n",
        "print(List1[5])\n",
        "List1.pop(0)\n",
        "List1.pop(4)\n",
        "List1.pop()\n",
        "print(List1)"
      ]
    },
    {
      "cell_type": "code",
      "source": [
        "#Program to get the difference between the two lists\n",
        "l1=[1,2,3,4,5,6]\n",
        "l2=[9,8,7,6,5]\n",
        "s1=set(l1)\n",
        "s2=set(l2)\n",
        "s3=s1.difference(s2)\n",
        "l3=list(s3)\n",
        "print(l3)"
      ],
      "metadata": {
        "colab": {
          "base_uri": "https://localhost:8080/"
        },
        "id": "OeL1Yuoaa2Hu",
        "outputId": "752c13f8-3aab-4060-f890-6e24a6578102"
      },
      "execution_count": null,
      "outputs": [
        {
          "output_type": "stream",
          "name": "stdout",
          "text": [
            "[1, 2, 3, 4]\n"
          ]
        }
      ]
    },
    {
      "cell_type": "code",
      "source": [
        "#Program to find the second smallest number and second largest number in a list\n",
        "l1=[1,2,3,4,5,6]\n",
        "x=l1[0]\n",
        "for i in l1:\n",
        "  if(i>x):\n",
        "    y=x\n",
        "    x=i\n",
        "print(y)\n",
        "a=l1[1]\n",
        "for j in l1:\n",
        "  if(j<a):\n",
        "    b=a\n",
        "    a=j\n",
        "print(b)"
      ],
      "metadata": {
        "colab": {
          "base_uri": "https://localhost:8080/"
        },
        "id": "BEQOJtnQcwpj",
        "outputId": "1c584b30-abe9-4cb7-e629-4f3a30b55a38"
      },
      "execution_count": null,
      "outputs": [
        {
          "output_type": "stream",
          "name": "stdout",
          "text": [
            "5\n",
            "2\n"
          ]
        }
      ]
    },
    {
      "cell_type": "code",
      "source": [
        "l1=[1,2,3,4,5,6]\n",
        "l1.sort()\n",
        "print(l1[1],l1[-2])"
      ],
      "metadata": {
        "colab": {
          "base_uri": "https://localhost:8080/"
        },
        "id": "8JbsCSNEHao0",
        "outputId": "07a8eda4-3ad8-4eb7-f9e5-1a892a55fc20"
      },
      "execution_count": null,
      "outputs": [
        {
          "output_type": "stream",
          "name": "stdout",
          "text": [
            "2 5\n"
          ]
        }
      ]
    },
    {
      "cell_type": "code",
      "source": [
        "#Given a list of numbers of list, write a Python program to create a list of tuples\n",
        "#having first element as the number and second element as the square of the number\n",
        "\n",
        "l1=[1,2,3]\n",
        "l2=[(x,pow(x,2)) for x in l1]\n",
        "print(l2)\n",
        "t2=tuple(l2)\n",
        "print(t2)"
      ],
      "metadata": {
        "colab": {
          "base_uri": "https://localhost:8080/"
        },
        "id": "zgwvgzQ1fTuZ",
        "outputId": "d3b9430d-2705-4c8e-f521-7787c6ea97c8"
      },
      "execution_count": null,
      "outputs": [
        {
          "output_type": "stream",
          "name": "stdout",
          "text": [
            "[(1, 1), (2, 4), (3, 9)]\n",
            "((1, 1), (2, 4), (3, 9))\n"
          ]
        }
      ]
    },
    {
      "cell_type": "code",
      "source": [
        "#x Given list of tuples, remove all the tuples with length K.\n",
        "#Input : test_list = [(4, 5), (4, ), (8, 6, 7), (1, ), (3, 4, 6, 7)], K = 2\n",
        "l1 = [(4, 5), (4, ), (8, 6, 7), (1, ), (3, 4, 6, 7)]\n",
        "k=2\n",
        "for x in l1:\n",
        "  if(len(x)==k):\n",
        "    l1.remove(x)\n",
        "print(l1)"
      ],
      "metadata": {
        "colab": {
          "base_uri": "https://localhost:8080/"
        },
        "id": "e4UYLWbxhIWj",
        "outputId": "f084153d-d8f9-472b-e8ff-9b6078378700"
      },
      "execution_count": null,
      "outputs": [
        {
          "output_type": "stream",
          "name": "stdout",
          "text": [
            "[(4,), (8, 6, 7), (1,), (3, 4, 6, 7)]\n"
          ]
        }
      ]
    },
    {
      "cell_type": "code",
      "source": [
        " #Program to generate and print a dictionary that contains a number (between 1\n",
        "#and n) in the form (x, x*x).\n",
        "n=int(input(\"Input a number \"))\n",
        "d = dict()\n",
        "for x in range(1,n+1):\n",
        "    d[x]=x*x\n",
        "print(d) "
      ],
      "metadata": {
        "colab": {
          "base_uri": "https://localhost:8080/"
        },
        "id": "BQ6dvnwbionJ",
        "outputId": "b7868b0b-b1b2-4c88-fffb-8bfb450bbe94"
      },
      "execution_count": null,
      "outputs": [
        {
          "output_type": "stream",
          "name": "stdout",
          "text": [
            "Input a number 5\n",
            "{1: 1, 2: 4, 3: 9, 4: 16, 5: 25}\n"
          ]
        }
      ]
    },
    {
      "cell_type": "code",
      "source": [
        "#Program to remove a key from a dictionary\n",
        "d = {'x':1,'y':2,'z':3,'a':4}\n",
        "if 'a' in d: \n",
        "    del d['a']\n",
        "print(d)"
      ],
      "metadata": {
        "colab": {
          "base_uri": "https://localhost:8080/"
        },
        "id": "1W2jM530ix2r",
        "outputId": "1dbad8d1-1f23-47d5-a478-3c62765b1de0"
      },
      "execution_count": null,
      "outputs": [
        {
          "output_type": "stream",
          "name": "stdout",
          "text": [
            "{'x': 1, 'y': 2, 'z': 3}\n"
          ]
        }
      ]
    },
    {
      "cell_type": "code",
      "source": [
        "#Program to get the maximum and minimum value in a dictionary.\n",
        "d = {'x':1,'y':2,'z':3,'a':4}\n",
        "b=d['x']\n",
        "for i in d.values():\n",
        "  if i>b:\n",
        "    #t=b\n",
        "    b=i\n",
        "print(b,t)\n",
        "c=d['y']\n",
        "for j in d.values():\n",
        "  if j<c:\n",
        "    o=c\n",
        "    c=j\n",
        "print(c,o)"
      ],
      "metadata": {
        "colab": {
          "base_uri": "https://localhost:8080/"
        },
        "id": "NvSYqy6T0t4U",
        "outputId": "361b43b4-d96b-4dcc-ffb4-c7701f2bcf7d"
      },
      "execution_count": null,
      "outputs": [
        {
          "output_type": "stream",
          "name": "stdout",
          "text": [
            "4 3\n",
            "1 2\n"
          ]
        }
      ]
    },
    {
      "cell_type": "code",
      "source": [
        "#splitting of string,accessing\n",
        "#elements of string using locations\n",
        "s='Mohana krishna arepalli'\n",
        "x=s.split()\n",
        "print(x)"
      ],
      "metadata": {
        "colab": {
          "base_uri": "https://localhost:8080/"
        },
        "id": "SkG8jt1lI9gF",
        "outputId": "8c36f670-8903-4460-c455-a9f0a880734f"
      },
      "execution_count": null,
      "outputs": [
        {
          "output_type": "stream",
          "name": "stdout",
          "text": [
            "['Mohana', 'krishna', 'arepalli']\n"
          ]
        }
      ]
    },
    {
      "cell_type": "code",
      "source": [
        "\n",
        "s='I have to go to a doctor and get myself checked'\n",
        "x=s.count('to')\n",
        "print(x)"
      ],
      "metadata": {
        "colab": {
          "base_uri": "https://localhost:8080/"
        },
        "id": "ZRWXX2XlBz5V",
        "outputId": "71e11f77-ce59-4ef2-8b97-c0bf0966c021"
      },
      "execution_count": null,
      "outputs": [
        {
          "output_type": "stream",
          "name": "stdout",
          "text": [
            "3\n"
          ]
        }
      ]
    },
    {
      "cell_type": "code",
      "source": [
        "s='Rabbit'\n",
        "x=s.replace('bb','cc')\n",
        "print(x)"
      ],
      "metadata": {
        "colab": {
          "base_uri": "https://localhost:8080/"
        },
        "id": "_s3E4KR8CAek",
        "outputId": "94ab7e25-587b-45f2-a7ef-3fcaefc039c1"
      },
      "execution_count": null,
      "outputs": [
        {
          "output_type": "stream",
          "name": "stdout",
          "text": [
            "Raccit\n"
          ]
        }
      ]
    },
    {
      "cell_type": "code",
      "source": [
        "s='Mohana krishna arepalli'\n",
        "x=s.split()\n",
        "print(x)\n",
        "a=''\n",
        "for i in x:\n",
        "  a=a+i[0]\n",
        "print(a)\n",
        "z=a.upper()\n",
        "print(z)"
      ],
      "metadata": {
        "colab": {
          "base_uri": "https://localhost:8080/"
        },
        "id": "n7XVKtbgCQkb",
        "outputId": "5ce47857-c79f-4403-c0a0-ea13d6868606"
      },
      "execution_count": null,
      "outputs": [
        {
          "output_type": "stream",
          "name": "stdout",
          "text": [
            "['Mohana', 'krishna', 'arepalli']\n",
            "Mka\n",
            "MKA\n"
          ]
        }
      ]
    },
    {
      "cell_type": "code",
      "source": [
        "l1='Suday Is a Fun Day'\n",
        "u=0\n",
        "l=0\n",
        "for x in l1:\n",
        "  if x.isupper():\n",
        "    u=u+1\n",
        "  elif x.islower():\n",
        "    l=l+1\n",
        "  else:\n",
        "    pass\n",
        "print(u,l)"
      ],
      "metadata": {
        "colab": {
          "base_uri": "https://localhost:8080/"
        },
        "id": "HZo4KH80GJIk",
        "outputId": "df6595f7-f2ea-4504-873e-d7f9507cd71b"
      },
      "execution_count": null,
      "outputs": [
        {
          "output_type": "stream",
          "name": "stdout",
          "text": [
            "4 10\n"
          ]
        }
      ]
    },
    {
      "cell_type": "code",
      "source": [
        "a= ['abc', 'xyz', 'aba', '1221'] \n",
        "c=0\n",
        "for x in a:\n",
        "  if(len(x)>=2):\n",
        "    if(x[0]==x[-1]):\n",
        "      c=c+1\n",
        "print(c)"
      ],
      "metadata": {
        "colab": {
          "base_uri": "https://localhost:8080/"
        },
        "id": "oflbDwI9GK4M",
        "outputId": "8914f750-68eb-4129-8cb7-872975463fea"
      },
      "execution_count": null,
      "outputs": [
        {
          "output_type": "stream",
          "name": "stdout",
          "text": [
            "2\n"
          ]
        }
      ]
    },
    {
      "cell_type": "code",
      "source": [
        "def factorial(n):\n",
        "  fact=1\n",
        "  for i in range(1,n+1):\n",
        "    fact =fact*i\n",
        "  return fact\n",
        "def ncr(n,r):\n",
        "  return factorial(n)/(factorial(r)*factorial(n-r))\n",
        "n=int(input())\n",
        "r=int(input())\n",
        "print(ncr(n,r))"
      ],
      "metadata": {
        "colab": {
          "base_uri": "https://localhost:8080/"
        },
        "id": "G5Y13idfApL5",
        "outputId": "fc23f41f-0bcb-4f5d-cd40-2c97efd911ec"
      },
      "execution_count": null,
      "outputs": [
        {
          "output_type": "stream",
          "name": "stdout",
          "text": [
            "5\n",
            "2\n",
            "10.0\n"
          ]
        }
      ]
    },
    {
      "cell_type": "code",
      "source": [
        "def gcd(a, b):\n",
        "   if a == b:\n",
        "      return a\n",
        "   elif a < b:\n",
        "      return gcd(b, a)\n",
        "   else:\n",
        "      return gcd(b, a - b)\n",
        "\n",
        "a = 25\n",
        "b = 10\n",
        "print(gcd(a, b))"
      ],
      "metadata": {
        "colab": {
          "base_uri": "https://localhost:8080/"
        },
        "id": "AuxPULbrEHUC",
        "outputId": "bc016b3e-39bf-4610-9b49-ac541326c07d"
      },
      "execution_count": null,
      "outputs": [
        {
          "output_type": "stream",
          "name": "stdout",
          "text": [
            "5\n"
          ]
        }
      ]
    },
    {
      "cell_type": "code",
      "source": [
        "def product(a,b):\n",
        "  if b==0:\n",
        "    return 0\n",
        "  else:\n",
        "    return (a+product(a,b-1))\n",
        "a=4\n",
        "b=50\n",
        "print(product(a,b))"
      ],
      "metadata": {
        "colab": {
          "base_uri": "https://localhost:8080/"
        },
        "id": "V8VvrZW2HjWl",
        "outputId": "e3d1eaa8-2c0c-4fcc-cb78-3e4d6b00c059"
      },
      "execution_count": null,
      "outputs": [
        {
          "output_type": "stream",
          "name": "stdout",
          "text": [
            "200\n"
          ]
        }
      ]
    },
    {
      "cell_type": "code",
      "source": [
        "def fib(n):\n",
        "  if(n<=1):\n",
        "    return n\n",
        "  else:\n",
        "    return (fib(n-1)+fib(n-2))\n",
        "n=9\n",
        "print(fib(n))"
      ],
      "metadata": {
        "colab": {
          "base_uri": "https://localhost:8080/"
        },
        "id": "UFNoW8-TI-DV",
        "outputId": "e29e2d82-63f6-4058-8beb-c1f44cfce65f"
      },
      "execution_count": null,
      "outputs": [
        {
          "output_type": "stream",
          "name": "stdout",
          "text": [
            "34\n"
          ]
        }
      ]
    },
    {
      "cell_type": "code",
      "source": [
        "def fib(n):\n",
        "   if n <= 1:\n",
        "       return n\n",
        "   else:\n",
        "       return(fib(n-1) + fib(n-2))\n",
        "\n",
        "n=10\n",
        "for i in range(n):\n",
        "  print(fib(i))"
      ],
      "metadata": {
        "colab": {
          "base_uri": "https://localhost:8080/"
        },
        "id": "LHw6afpMKh45",
        "outputId": "6118e593-2d75-4eb5-a298-1aaf3fb9db0c"
      },
      "execution_count": null,
      "outputs": [
        {
          "output_type": "stream",
          "name": "stdout",
          "text": [
            "0\n",
            "1\n",
            "1\n",
            "2\n",
            "3\n",
            "5\n",
            "8\n",
            "13\n",
            "21\n",
            "34\n"
          ]
        }
      ]
    }
  ]
}