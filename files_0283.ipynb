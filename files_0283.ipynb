{
  "cells": [
    {
      "cell_type": "markdown",
      "metadata": {
        "id": "view-in-github",
        "colab_type": "text"
      },
      "source": [
        "<a href=\"https://colab.research.google.com/github/MOHAN0283/python_new/blob/module_3/files_0283.ipynb\" target=\"_parent\"><img src=\"https://colab.research.google.com/assets/colab-badge.svg\" alt=\"Open In Colab\"/></a>"
      ]
    },
    {
      "cell_type": "code",
      "execution_count": null,
      "id": "059d6b66",
      "metadata": {
        "id": "059d6b66",
        "outputId": "4171cd69-55bc-4153-9752-d08efa1704e6"
      },
      "outputs": [
        {
          "name": "stdout",
          "output_type": "stream",
          "text": [
            "good morning \n",
            "lets get to work\n"
          ]
        }
      ],
      "source": [
        "# open a file\n",
        "f = open(\"C:\\\\Users\\CSE22004\\Desktop\\hi.txt\", \"r\")\n",
        "print(f.read())"
      ]
    },
    {
      "cell_type": "code",
      "execution_count": null,
      "id": "902c0bd7",
      "metadata": {
        "id": "902c0bd7"
      },
      "outputs": [],
      "source": [
        ""
      ]
    },
    {
      "cell_type": "code",
      "execution_count": null,
      "id": "c7a06e05",
      "metadata": {
        "id": "c7a06e05",
        "outputId": "2b433d29-bc4a-4a28-bfb3-a59ec017cb42"
      },
      "outputs": [
        {
          "name": "stdout",
          "output_type": "stream",
          "text": [
            "hi, T\n"
          ]
        }
      ],
      "source": [
        "# print upto certain range\n",
        "f = open(\"C:\\\\Users\\CSE22004\\Desktop\\hi.txt\", \"r\")\n",
        "print(f.read(5))"
      ]
    },
    {
      "cell_type": "code",
      "execution_count": null,
      "id": "9ce18843",
      "metadata": {
        "id": "9ce18843",
        "outputId": "d3ec396b-40df-45a5-8932-172d2307b542"
      },
      "outputs": [
        {
          "name": "stdout",
          "output_type": "stream",
          "text": [
            "good morning \n",
            "\n",
            "lets get to work\n"
          ]
        }
      ],
      "source": [
        "# create or rewrite and read 2 lines\n",
        "f = open(\"C:\\\\Users\\CSE22004\\Desktop\\hi.txt\", \"w\")\n",
        "f.write(\"good morning \\nlets get to work\")\n",
        "f = open(\"C:\\\\Users\\CSE22004\\Desktop\\hi.txt\", \"r\")\n",
        "print(f.readline())\n",
        "print(f.readline())\n",
        "f.close()"
      ]
    },
    {
      "cell_type": "code",
      "execution_count": null,
      "id": "4f7a837a",
      "metadata": {
        "scrolled": true,
        "id": "4f7a837a",
        "outputId": "741345f5-dce1-4a00-baee-cbfa2014d7de"
      },
      "outputs": [
        {
          "name": "stdout",
          "output_type": "stream",
          "text": [
            "good morning \n",
            "\n",
            "lets get to work\n"
          ]
        }
      ],
      "source": [
        "# printing txt file using loops\n",
        "f = open(\"C:\\\\Users\\CSE22004\\Desktop\\hi.txt\", \"r\")\n",
        "for x in f:\n",
        "    print(x)\n",
        "f.close()"
      ]
    },
    {
      "cell_type": "code",
      "execution_count": null,
      "id": "5ca285a4",
      "metadata": {
        "id": "5ca285a4",
        "outputId": "fbded3fe-274c-49ca-bcf5-26529b7cf3c2"
      },
      "outputs": [
        {
          "name": "stdout",
          "output_type": "stream",
          "text": [
            "\n",
            "dont stop until its done\n",
            "it determines your will\n"
          ]
        }
      ],
      "source": [
        "# adding txt to already existing file\n",
        "f = open(\"C:\\\\Users\\CSE22004\\Desktop\\hi.txt\", \"a\")\n",
        "f.write(\"\\nit determines your will\")\n",
        "f = open(\"C:\\\\Users\\CSE22004\\Desktop\\hi.txt\", \"r\")\n",
        "print(f.read())\n",
        "f.close()"
      ]
    },
    {
      "cell_type": "code",
      "execution_count": null,
      "id": "5f8f55fa",
      "metadata": {
        "id": "5f8f55fa",
        "outputId": "d098855e-7770-4255-c7b7-49418c92dd32"
      },
      "outputs": [
        {
          "name": "stdout",
          "output_type": "stream",
          "text": [
            "The file does not exist\n"
          ]
        }
      ],
      "source": [
        "# delete a file\n",
        "import os\n",
        "if os.path.exists(\"C:\\\\Users\\CSE22004\\Desktop\\hi.txt\"):\n",
        "  os.remove(\"C:\\\\Users\\CSE22004\\Desktop\\hi.txt\")\n",
        "else:\n",
        "  print(\"The file does not exist\")"
      ]
    },
    {
      "cell_type": "code",
      "execution_count": null,
      "id": "ab627dbf",
      "metadata": {
        "id": "ab627dbf",
        "outputId": "1d76d9d3-042f-4f41-a677-f313a6bc289d"
      },
      "outputs": [
        {
          "ename": "FileNotFoundError",
          "evalue": "[WinError 2] The system cannot find the file specified: 'myfolder'",
          "output_type": "error",
          "traceback": [
            "\u001b[1;31m---------------------------------------------------------------------------\u001b[0m",
            "\u001b[1;31mFileNotFoundError\u001b[0m                         Traceback (most recent call last)",
            "\u001b[1;32m~\\AppData\\Local\\Temp/ipykernel_10664/2744753577.py\u001b[0m in \u001b[0;36m<module>\u001b[1;34m\u001b[0m\n\u001b[0;32m      1\u001b[0m \u001b[1;31m# location of folder\u001b[0m\u001b[1;33m\u001b[0m\u001b[1;33m\u001b[0m\u001b[0m\n\u001b[0;32m      2\u001b[0m \u001b[1;32mimport\u001b[0m \u001b[0mos\u001b[0m\u001b[1;33m\u001b[0m\u001b[1;33m\u001b[0m\u001b[0m\n\u001b[1;32m----> 3\u001b[1;33m \u001b[0mos\u001b[0m\u001b[1;33m.\u001b[0m\u001b[0mrmdir\u001b[0m\u001b[1;33m(\u001b[0m\u001b[1;34m\"myfolder\"\u001b[0m\u001b[1;33m)\u001b[0m\u001b[1;33m\u001b[0m\u001b[1;33m\u001b[0m\u001b[0m\n\u001b[0m",
            "\u001b[1;31mFileNotFoundError\u001b[0m: [WinError 2] The system cannot find the file specified: 'myfolder'"
          ]
        }
      ],
      "source": [
        "# location of folder\n",
        "import os\n",
        "os.rmdir(\"myfolder\")"
      ]
    },
    {
      "cell_type": "code",
      "execution_count": null,
      "id": "01b49b60",
      "metadata": {
        "id": "01b49b60",
        "outputId": "ac1144f5-428a-4424-f399-eefe6772d8cb"
      },
      "outputs": [
        {
          "ename": "UnsupportedOperation",
          "evalue": "not readable",
          "output_type": "error",
          "traceback": [
            "\u001b[1;31m---------------------------------------------------------------------------\u001b[0m",
            "\u001b[1;31mUnsupportedOperation\u001b[0m                      Traceback (most recent call last)",
            "\u001b[1;32m~\\AppData\\Local\\Temp/ipykernel_10664/4070605062.py\u001b[0m in \u001b[0;36m<module>\u001b[1;34m\u001b[0m\n\u001b[0;32m      2\u001b[0m \u001b[0mf\u001b[0m\u001b[1;33m=\u001b[0m\u001b[0mopen\u001b[0m\u001b[1;33m(\u001b[0m\u001b[1;34m\"1.txt\"\u001b[0m\u001b[1;33m,\u001b[0m\u001b[1;34m'w'\u001b[0m\u001b[1;33m)\u001b[0m\u001b[1;33m\u001b[0m\u001b[1;33m\u001b[0m\u001b[0m\n\u001b[0;32m      3\u001b[0m \u001b[0mf\u001b[0m\u001b[1;33m.\u001b[0m\u001b[0mwrite\u001b[0m\u001b[1;33m(\u001b[0m\u001b[1;34m\"hii\"\u001b[0m\u001b[1;33m)\u001b[0m\u001b[1;33m\u001b[0m\u001b[1;33m\u001b[0m\u001b[0m\n\u001b[1;32m----> 4\u001b[1;33m \u001b[0mf\u001b[0m\u001b[1;33m.\u001b[0m\u001b[0mread\u001b[0m\u001b[1;33m(\u001b[0m\u001b[1;33m)\u001b[0m\u001b[1;33m\u001b[0m\u001b[1;33m\u001b[0m\u001b[0m\n\u001b[0m\u001b[0;32m      5\u001b[0m \u001b[0mf\u001b[0m\u001b[1;33m.\u001b[0m\u001b[0mclose\u001b[0m\u001b[1;33m(\u001b[0m\u001b[1;33m)\u001b[0m\u001b[1;33m\u001b[0m\u001b[1;33m\u001b[0m\u001b[0m\n",
            "\u001b[1;31mUnsupportedOperation\u001b[0m: not readable"
          ]
        }
      ],
      "source": [
        "# copy a file\n",
        "f=open(\"1.txt\",'w')\n",
        "f.write(\"hii\")\n",
        "f.read()\n",
        "f.close()"
      ]
    },
    {
      "cell_type": "code",
      "execution_count": null,
      "id": "375f2949",
      "metadata": {
        "id": "375f2949"
      },
      "outputs": [],
      "source": [
        ""
      ]
    }
  ],
  "metadata": {
    "kernelspec": {
      "display_name": "Python 3 (ipykernel)",
      "language": "python",
      "name": "python3"
    },
    "language_info": {
      "codemirror_mode": {
        "name": "ipython",
        "version": 3
      },
      "file_extension": ".py",
      "mimetype": "text/x-python",
      "name": "python",
      "nbconvert_exporter": "python",
      "pygments_lexer": "ipython3",
      "version": "3.9.7"
    },
    "colab": {
      "name": "files.0283.ipynb",
      "provenance": [],
      "collapsed_sections": [],
      "include_colab_link": true
    }
  },
  "nbformat": 4,
  "nbformat_minor": 5
}