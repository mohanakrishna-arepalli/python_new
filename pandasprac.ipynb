{
  "cells": [
    {
      "cell_type": "markdown",
      "metadata": {
        "id": "view-in-github",
        "colab_type": "text"
      },
      "source": [
        "<a href=\"https://colab.research.google.com/github/MOHAN0283/python_new/blob/module_3/pandasprac.ipynb\" target=\"_parent\"><img src=\"https://colab.research.google.com/assets/colab-badge.svg\" alt=\"Open In Colab\"/></a>"
      ]
    },
    {
      "cell_type": "code",
      "execution_count": null,
      "id": "15c83522",
      "metadata": {
        "id": "15c83522"
      },
      "outputs": [],
      "source": [
        "import pandas"
      ]
    },
    {
      "cell_type": "code",
      "execution_count": null,
      "id": "2d596d10",
      "metadata": {
        "id": "2d596d10"
      },
      "outputs": [],
      "source": [
        "import pandas as mk"
      ]
    },
    {
      "cell_type": "code",
      "execution_count": null,
      "id": "3a02543e",
      "metadata": {
        "id": "3a02543e",
        "outputId": "c4e9db63-ffed-4f1f-e8f0-19f8f9fcbd23"
      },
      "outputs": [
        {
          "name": "stdout",
          "output_type": "stream",
          "text": [
            "        NAME  AGE  MARKS     DATE\n",
            "0       HEMA   20     95   1-5-22\n",
            "1    PRADEEP   10     99   1-5-22\n",
            "2    SANKALP   15     97   2-5-22\n",
            "3      PAWAN   20     94   2-5-22\n",
            "4   PRANEETH   16     85   3-5-22\n",
            "5      MOHAN   18     99   3-5-22\n",
            "6    KRISHNA   14    100   4-5-22\n",
            "7      RISHI   12     98   4-5-22\n",
            "8      SWYAM   21     97   5-5-22\n",
            "9   CHITANYA   22     96   5-5-22\n",
            "10    LOKESH   30     91   6-5-22\n",
            "11      SAMI   25     92   6-5-22\n",
            "12   AVINASH   40     84   7-5-22\n",
            "13    BALAJI    9     80   7-5-22\n",
            "14   VEDHESH   16     90   8-5-22\n",
            "15   ABHINAV   17     95   8-5-22\n",
            "16     SUBHU   25     96   9-5-22\n",
            "17     NEHAL   22     96   9-5-22\n",
            "18    KARTHI   12     99  10-5-22\n"
          ]
        }
      ],
      "source": [
        "a=mk.read_csv(\"data.csv\")\n",
        "print(a)"
      ]
    },
    {
      "cell_type": "code",
      "execution_count": null,
      "id": "34b82b2f",
      "metadata": {
        "id": "34b82b2f",
        "outputId": "2c5527be-621f-4b14-a341-c4e7f7498c0b"
      },
      "outputs": [
        {
          "name": "stdout",
          "output_type": "stream",
          "text": [
            "        NAME  AGE  MARKS     DATE\n",
            "0       HEMA   20     95   1-5-22\n",
            "1    PRADEEP   10     99   1-5-22\n",
            "2    SANKALP   15     97   2-5-22\n",
            "3      PAWAN   20     94   2-5-22\n",
            "4   PRANEETH   16     85   3-5-22\n",
            "5      MOHAN   18     99   3-5-22\n",
            "6    KRISHNA   14    100   4-5-22\n",
            "7      RISHI   12     98   4-5-22\n",
            "8      SWYAM   21     97   5-5-22\n",
            "9   CHITANYA   22     96   5-5-22\n",
            "10    LOKESH   30     91   6-5-22\n",
            "11      SAMI   25     92   6-5-22\n",
            "12   AVINASH   40     84   7-5-22\n",
            "13    BALAJI    9     80   7-5-22\n",
            "14   VEDHESH   16     90   8-5-22\n",
            "15   ABHINAV   17     95   8-5-22\n",
            "16     SUBHU   25     96   9-5-22\n",
            "17     NEHAL   22     96   9-5-22\n",
            "18    KARTHI   12     99  10-5-22\n"
          ]
        }
      ],
      "source": [
        "a=mk.read_csv(\"data.csv\")\n",
        "a.dropna(subset=['NAME'], inplace = True)\n",
        "print(a)"
      ]
    },
    {
      "cell_type": "code",
      "execution_count": null,
      "id": "bc2120c5",
      "metadata": {
        "id": "bc2120c5",
        "outputId": "dc36c53c-7105-405e-fb27-d26af01c388e"
      },
      "outputs": [
        {
          "name": "stdout",
          "output_type": "stream",
          "text": [
            "        NAME  AGE  MARKS     DATE\n",
            "0       HEMA   20     95   1-5-22\n",
            "1    PRADEEP   10     99   1-5-22\n",
            "2    SANKALP   15     97   2-5-22\n",
            "3      PAWAN   20     94   2-5-22\n",
            "4   PRANEETH   16     85   3-5-22\n",
            "5      MOHAN   18     99   3-5-22\n",
            "6    KRISHNA   14    100   4-5-22\n",
            "7      RISHI   12     98   4-5-22\n",
            "8      SWYAM   21     97   5-5-22\n",
            "9   CHITANYA   22     96   5-5-22\n",
            "10    LOKESH   30     91   6-5-22\n",
            "11      SAMI   25     92   6-5-22\n",
            "12   AVINASH   40     84   7-5-22\n",
            "13    BALAJI    9     80   7-5-22\n",
            "14   VEDHESH   16     90   8-5-22\n",
            "15   ABHINAV   17     95   8-5-22\n",
            "16     SUBHU   25     96   9-5-22\n",
            "17     NEHAL   22     96   9-5-22\n",
            "18    KARTHI   12     99  10-5-22\n"
          ]
        }
      ],
      "source": [
        "a=mk.read_csv(\"data.csv\")\n",
        "b=mk.DataFrame(a)\n",
        "print(b)"
      ]
    },
    {
      "cell_type": "code",
      "execution_count": null,
      "id": "7bea870c",
      "metadata": {
        "id": "7bea870c",
        "outputId": "0a176ba3-eb10-4d44-ada8-7281134eb091"
      },
      "outputs": [
        {
          "name": "stdout",
          "output_type": "stream",
          "text": [
            "        NAME  AGE  MARKS     DATE\n",
            "0       HEMA   20     95   1-5-22\n",
            "1    PRADEEP   10     99   1-5-22\n",
            "2    SANKALP   15     97   2-5-22\n",
            "3      PAWAN   20     94   2-5-22\n",
            "4   PRANEETH   16     85   3-5-22\n",
            "5      MOHAN   18     99   3-5-22\n",
            "6    KRISHNA   14    100   4-5-22\n",
            "7      RISHI   12     98   4-5-22\n",
            "8      SWYAM   21     97   5-5-22\n",
            "9   CHITANYA   22     96   5-5-22\n",
            "10    LOKESH   30     91   6-5-22\n",
            "11      SAMI   25     92   6-5-22\n",
            "12   AVINASH   40     84   7-5-22\n",
            "13    BALAJI    9     80   7-5-22\n",
            "14   VEDHESH   16     90   8-5-22\n",
            "15   ABHINAV   17     95   8-5-22\n",
            "16     SUBHU   25     96   9-5-22\n",
            "17     NEHAL   22     96   9-5-22\n",
            "18    KARTHI   12     99  10-5-22\n"
          ]
        }
      ],
      "source": [
        "d=b.drop_duplicates()\n",
        "print(d)"
      ]
    },
    {
      "cell_type": "code",
      "execution_count": null,
      "id": "7f8ff74b",
      "metadata": {
        "id": "7f8ff74b",
        "outputId": "4c4e2e49-ddc6-49db-f990-15cff9e60b75"
      },
      "outputs": [
        {
          "name": "stdout",
          "output_type": "stream",
          "text": [
            "   S.NO     NAME  AGE   PH.NO         EMAIL                 ADDRESS  \\\n",
            "0     1    MOHAN   18  123456  m@mkmail.com  a lane b street c city   \n",
            "1     2    RISHI   12  654321  r@mkmail.com  b lane c street e city   \n",
            "2     3  SANKALP   20  741852  s@mkmail.com  c lane d street f city   \n",
            "3     4     HEMA   25  963258  h@mkmail.com  d lane e street g city   \n",
            "4     5  PRADEEP   22  965874  p@mkmail.com  e lane z street n city   \n",
            "5     6    Pavan   24  951753  x@mkmail.com  e lane f street g city   \n",
            "6     7    Swyam    8  357159  c@mkmail.com  g lane h street i city   \n",
            "7     8   Lokesh    2  159753  a@mkmail.com  h lane i street j city   \n",
            "8     9     Sami    5  753159  d@mkmail.com  j lane k street l city   \n",
            "9    10  Krishna   19  742356  z@mkmail.com  m lane n street o city   \n",
            "\n",
            "  PASSPORT(yes/no) LISCENSE  \n",
            "0              yes      yes  \n",
            "1               no       no  \n",
            "2              yes      yes  \n",
            "3              yes       no  \n",
            "4               no      yes  \n",
            "5              yes       no  \n",
            "6               no      yes  \n",
            "7              yes       no  \n",
            "8              yes      yes  \n",
            "9               no       no  \n"
          ]
        }
      ],
      "source": [
        "a=mk.read_csv(\"passport.csv\")\n",
        "b=mk.DataFrame(a)\n",
        "print(b)"
      ]
    },
    {
      "cell_type": "code",
      "execution_count": null,
      "id": "3a7d6799",
      "metadata": {
        "id": "3a7d6799",
        "outputId": "9610974d-42f1-43b5-d18d-29de1c41ee1c"
      },
      "outputs": [
        {
          "data": {
            "text/html": [
              "<div>\n",
              "<style scoped>\n",
              "    .dataframe tbody tr th:only-of-type {\n",
              "        vertical-align: middle;\n",
              "    }\n",
              "\n",
              "    .dataframe tbody tr th {\n",
              "        vertical-align: top;\n",
              "    }\n",
              "\n",
              "    .dataframe thead th {\n",
              "        text-align: right;\n",
              "    }\n",
              "</style>\n",
              "<table border=\"1\" class=\"dataframe\">\n",
              "  <thead>\n",
              "    <tr style=\"text-align: right;\">\n",
              "      <th></th>\n",
              "      <th>PH.NO</th>\n",
              "      <th>AGE</th>\n",
              "    </tr>\n",
              "  </thead>\n",
              "  <tbody>\n",
              "    <tr>\n",
              "      <th>max</th>\n",
              "      <td>965874.0</td>\n",
              "      <td>25.0</td>\n",
              "    </tr>\n",
              "    <tr>\n",
              "      <th>min</th>\n",
              "      <td>123456.0</td>\n",
              "      <td>2.0</td>\n",
              "    </tr>\n",
              "    <tr>\n",
              "      <th>sum</th>\n",
              "      <td>6412941.0</td>\n",
              "      <td>155.0</td>\n",
              "    </tr>\n",
              "    <tr>\n",
              "      <th>average</th>\n",
              "      <td>641294.1</td>\n",
              "      <td>15.5</td>\n",
              "    </tr>\n",
              "  </tbody>\n",
              "</table>\n",
              "</div>"
            ],
            "text/plain": [
              "             PH.NO    AGE\n",
              "max       965874.0   25.0\n",
              "min       123456.0    2.0\n",
              "sum      6412941.0  155.0\n",
              "average   641294.1   15.5"
            ]
          },
          "execution_count": 10,
          "metadata": {},
          "output_type": "execute_result"
        }
      ],
      "source": [
        "d=mk.read_csv(\"passport.csv\")\n",
        "d.aggregate({'PH.NO':['max','min','sum','average'],\"AGE\":['min','max','sum','average']})\n"
      ]
    },
    {
      "cell_type": "code",
      "execution_count": null,
      "id": "37cd72d7",
      "metadata": {
        "id": "37cd72d7",
        "outputId": "7ca4a31f-b62a-44cb-ccbd-c8d075aa9cf3"
      },
      "outputs": [
        {
          "data": {
            "text/html": [
              "<div>\n",
              "<style scoped>\n",
              "    .dataframe tbody tr th:only-of-type {\n",
              "        vertical-align: middle;\n",
              "    }\n",
              "\n",
              "    .dataframe tbody tr th {\n",
              "        vertical-align: top;\n",
              "    }\n",
              "\n",
              "    .dataframe thead th {\n",
              "        text-align: right;\n",
              "    }\n",
              "</style>\n",
              "<table border=\"1\" class=\"dataframe\">\n",
              "  <thead>\n",
              "    <tr style=\"text-align: right;\">\n",
              "      <th></th>\n",
              "      <th></th>\n",
              "      <th></th>\n",
              "      <th>S.NO</th>\n",
              "      <th>NAME</th>\n",
              "      <th>EMAIL</th>\n",
              "      <th>PASSPORT(yes/no)</th>\n",
              "      <th>LISCENSE</th>\n",
              "    </tr>\n",
              "    <tr>\n",
              "      <th>ADDRESS</th>\n",
              "      <th>AGE</th>\n",
              "      <th>PH.NO</th>\n",
              "      <th></th>\n",
              "      <th></th>\n",
              "      <th></th>\n",
              "      <th></th>\n",
              "      <th></th>\n",
              "    </tr>\n",
              "  </thead>\n",
              "  <tbody>\n",
              "    <tr>\n",
              "      <th>a lane b street c city</th>\n",
              "      <th>18</th>\n",
              "      <th>123456</th>\n",
              "      <td>1</td>\n",
              "      <td>MOHAN</td>\n",
              "      <td>m@mkmail.com</td>\n",
              "      <td>yes</td>\n",
              "      <td>yes</td>\n",
              "    </tr>\n",
              "    <tr>\n",
              "      <th>b lane c street e city</th>\n",
              "      <th>12</th>\n",
              "      <th>654321</th>\n",
              "      <td>2</td>\n",
              "      <td>RISHI</td>\n",
              "      <td>r@mkmail.com</td>\n",
              "      <td>no</td>\n",
              "      <td>no</td>\n",
              "    </tr>\n",
              "    <tr>\n",
              "      <th>c lane d street f city</th>\n",
              "      <th>20</th>\n",
              "      <th>741852</th>\n",
              "      <td>3</td>\n",
              "      <td>SANKALP</td>\n",
              "      <td>s@mkmail.com</td>\n",
              "      <td>yes</td>\n",
              "      <td>yes</td>\n",
              "    </tr>\n",
              "    <tr>\n",
              "      <th>d lane e street g city</th>\n",
              "      <th>25</th>\n",
              "      <th>963258</th>\n",
              "      <td>4</td>\n",
              "      <td>HEMA</td>\n",
              "      <td>h@mkmail.com</td>\n",
              "      <td>yes</td>\n",
              "      <td>no</td>\n",
              "    </tr>\n",
              "    <tr>\n",
              "      <th>e lane f street g city</th>\n",
              "      <th>24</th>\n",
              "      <th>951753</th>\n",
              "      <td>6</td>\n",
              "      <td>Pavan</td>\n",
              "      <td>x@mkmail.com</td>\n",
              "      <td>yes</td>\n",
              "      <td>no</td>\n",
              "    </tr>\n",
              "    <tr>\n",
              "      <th>e lane z street n city</th>\n",
              "      <th>22</th>\n",
              "      <th>965874</th>\n",
              "      <td>5</td>\n",
              "      <td>PRADEEP</td>\n",
              "      <td>p@mkmail.com</td>\n",
              "      <td>no</td>\n",
              "      <td>yes</td>\n",
              "    </tr>\n",
              "    <tr>\n",
              "      <th>g lane h street i city</th>\n",
              "      <th>8</th>\n",
              "      <th>357159</th>\n",
              "      <td>7</td>\n",
              "      <td>Swyam</td>\n",
              "      <td>c@mkmail.com</td>\n",
              "      <td>no</td>\n",
              "      <td>yes</td>\n",
              "    </tr>\n",
              "    <tr>\n",
              "      <th>h lane i street j city</th>\n",
              "      <th>2</th>\n",
              "      <th>159753</th>\n",
              "      <td>8</td>\n",
              "      <td>Lokesh</td>\n",
              "      <td>a@mkmail.com</td>\n",
              "      <td>yes</td>\n",
              "      <td>no</td>\n",
              "    </tr>\n",
              "    <tr>\n",
              "      <th>j lane k street l city</th>\n",
              "      <th>5</th>\n",
              "      <th>753159</th>\n",
              "      <td>9</td>\n",
              "      <td>Sami</td>\n",
              "      <td>d@mkmail.com</td>\n",
              "      <td>yes</td>\n",
              "      <td>yes</td>\n",
              "    </tr>\n",
              "    <tr>\n",
              "      <th>m lane n street o city</th>\n",
              "      <th>19</th>\n",
              "      <th>742356</th>\n",
              "      <td>10</td>\n",
              "      <td>Krishna</td>\n",
              "      <td>z@mkmail.com</td>\n",
              "      <td>no</td>\n",
              "      <td>no</td>\n",
              "    </tr>\n",
              "  </tbody>\n",
              "</table>\n",
              "</div>"
            ],
            "text/plain": [
              "                                   S.NO     NAME         EMAIL  \\\n",
              "ADDRESS                AGE PH.NO                                 \n",
              "a lane b street c city 18  123456     1    MOHAN  m@mkmail.com   \n",
              "b lane c street e city 12  654321     2    RISHI  r@mkmail.com   \n",
              "c lane d street f city 20  741852     3  SANKALP  s@mkmail.com   \n",
              "d lane e street g city 25  963258     4     HEMA  h@mkmail.com   \n",
              "e lane f street g city 24  951753     6    Pavan  x@mkmail.com   \n",
              "e lane z street n city 22  965874     5  PRADEEP  p@mkmail.com   \n",
              "g lane h street i city 8   357159     7    Swyam  c@mkmail.com   \n",
              "h lane i street j city 2   159753     8   Lokesh  a@mkmail.com   \n",
              "j lane k street l city 5   753159     9     Sami  d@mkmail.com   \n",
              "m lane n street o city 19  742356    10  Krishna  z@mkmail.com   \n",
              "\n",
              "                                  PASSPORT(yes/no) LISCENSE  \n",
              "ADDRESS                AGE PH.NO                             \n",
              "a lane b street c city 18  123456              yes      yes  \n",
              "b lane c street e city 12  654321               no       no  \n",
              "c lane d street f city 20  741852              yes      yes  \n",
              "d lane e street g city 25  963258              yes       no  \n",
              "e lane f street g city 24  951753              yes       no  \n",
              "e lane z street n city 22  965874               no      yes  \n",
              "g lane h street i city 8   357159               no      yes  \n",
              "h lane i street j city 2   159753              yes       no  \n",
              "j lane k street l city 5   753159              yes      yes  \n",
              "m lane n street o city 19  742356               no       no  "
            ]
          },
          "execution_count": 20,
          "metadata": {},
          "output_type": "execute_result"
        }
      ],
      "source": [
        "d=mk.read_csv(\"passport.csv\")\n",
        "z=d.groupby(by=['ADDRESS','AGE','PH.NO'])\n",
        "z.first()"
      ]
    },
    {
      "cell_type": "code",
      "execution_count": null,
      "id": "cda90d45",
      "metadata": {
        "id": "cda90d45"
      },
      "outputs": [],
      "source": [
        ""
      ]
    }
  ],
  "metadata": {
    "kernelspec": {
      "display_name": "Python 3 (ipykernel)",
      "language": "python",
      "name": "python3"
    },
    "language_info": {
      "codemirror_mode": {
        "name": "ipython",
        "version": 3
      },
      "file_extension": ".py",
      "mimetype": "text/x-python",
      "name": "python",
      "nbconvert_exporter": "python",
      "pygments_lexer": "ipython3",
      "version": "3.9.7"
    },
    "colab": {
      "name": "pandasprac.ipynb",
      "provenance": [],
      "include_colab_link": true
    }
  },
  "nbformat": 4,
  "nbformat_minor": 5
}