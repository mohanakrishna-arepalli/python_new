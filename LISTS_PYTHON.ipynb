{
  "nbformat": 4,
  "nbformat_minor": 0,
  "metadata": {
    "colab": {
      "name": "LISTS PYTHON.ipynb",
      "provenance": [],
      "authorship_tag": "ABX9TyMVhyctHsA0iAIB5LV8ndRM",
      "include_colab_link": true
    },
    "kernelspec": {
      "name": "python3",
      "display_name": "Python 3"
    },
    "language_info": {
      "name": "python"
    }
  },
  "cells": [
    {
      "cell_type": "markdown",
      "metadata": {
        "id": "view-in-github",
        "colab_type": "text"
      },
      "source": [
        "<a href=\"https://colab.research.google.com/github/MOHAN0283/python_new/blob/module_2/LISTS_PYTHON.ipynb\" target=\"_parent\"><img src=\"https://colab.research.google.com/assets/colab-badge.svg\" alt=\"Open In Colab\"/></a>"
      ]
    },
    {
      "cell_type": "markdown",
      "source": [
        "LISTS"
      ],
      "metadata": {
        "id": "EzW8rnYPWQc-"
      }
    },
    {
      "cell_type": "code",
      "source": [
        "fruit=[\"apple\",\"orange\",\"mango\",\"pine apple\",\"grapes\"]\n",
        "print(fruit)\n",
        "print(fruit[0])\n",
        "print(fruit[0][:2])\n",
        "print(fruit[-1])\n",
        "print(fruit[0:2])\n",
        "print(fruit[:2])\n",
        "print(fruit[2:])\n",
        "print(fruit[-4:-1])"
      ],
      "metadata": {
        "colab": {
          "base_uri": "https://localhost:8080/"
        },
        "id": "HhC83S3KWW-u",
        "outputId": "befa4db1-99f0-4e3f-db74-d24629ebe3c1"
      },
      "execution_count": null,
      "outputs": [
        {
          "output_type": "stream",
          "name": "stdout",
          "text": [
            "['apple', 'orange', 'mango', 'pine apple', 'grapes']\n",
            "apple\n",
            "ap\n",
            "grapes\n",
            "['apple', 'orange']\n",
            "['apple', 'orange']\n",
            "['mango', 'pine apple', 'grapes']\n",
            "['orange', 'mango', 'pine apple']\n"
          ]
        }
      ]
    },
    {
      "cell_type": "code",
      "source": [
        "fruit=[\"apple\",\"orange\",\"mango\",\"pine apple\",\"grapes\"]\n",
        "# add at end\n",
        "fruit.append(\"plum\")\n",
        "print(fruit)\n",
        "# add at required position\n",
        "fruit.insert(1,\"kiwi\")\n",
        "print(fruit)\n",
        "# divide a string into multiple strings\n",
        "fruit.extend(\"kiwi\")\n",
        "print(fruit)\n",
        "# removing a string\n",
        "fruit.remove(\"mango\")\n",
        "print(fruit)"
      ],
      "metadata": {
        "colab": {
          "base_uri": "https://localhost:8080/"
        },
        "id": "E252604mYvXd",
        "outputId": "eef23454-94d5-478a-e5c1-b2d145f237dd"
      },
      "execution_count": null,
      "outputs": [
        {
          "output_type": "stream",
          "name": "stdout",
          "text": [
            "['apple', 'orange', 'mango', 'pine apple', 'grapes', 'plum']\n",
            "['apple', 'kiwi', 'orange', 'mango', 'pine apple', 'grapes', 'plum']\n",
            "['apple', 'kiwi', 'orange', 'mango', 'pine apple', 'grapes', 'plum', 'k', 'i', 'w', 'i']\n",
            "['apple', 'kiwi', 'orange', 'pine apple', 'grapes', 'plum', 'k', 'i', 'w', 'i']\n"
          ]
        }
      ]
    },
    {
      "cell_type": "code",
      "source": [
        "spl_list=[\"string\",9,'A',\"@\",True]\n",
        "spl_list.insert(3,\"hi\")\n",
        "spl_list.pop(0)\n",
        "print(spl_list)\n",
        "del spl_list[0]\n",
        "print(spl_list)\n",
        "spl_list.clear()\n",
        "print(spl_list)"
      ],
      "metadata": {
        "colab": {
          "base_uri": "https://localhost:8080/"
        },
        "id": "LYwkkZwYedcq",
        "outputId": "2be4271b-fdcc-4ad6-c0b4-b6fa2ba94462"
      },
      "execution_count": null,
      "outputs": [
        {
          "output_type": "stream",
          "name": "stdout",
          "text": [
            "[9, 'A', 'hi', '@', True]\n",
            "['A', 'hi', '@', True]\n",
            "[]\n"
          ]
        }
      ]
    },
    {
      "cell_type": "code",
      "source": [
        "spl_list=[\"string\",9,'A',\"@\",True]\n",
        "fruit=[\"apple\",\"orange\",\"mango\",\"pine apple\",\"grapes\"]\n",
        "b=fruit+spl_list\n",
        "print(b)\n",
        "del fruit\n",
        "print(spl_list)"
      ],
      "metadata": {
        "colab": {
          "base_uri": "https://localhost:8080/"
        },
        "id": "fC6Kc6BOhNVw",
        "outputId": "d1dd1696-7636-477f-e997-def58f2f7ca4"
      },
      "execution_count": null,
      "outputs": [
        {
          "output_type": "stream",
          "name": "stdout",
          "text": [
            "['apple', 'orange', 'mango', 'pine apple', 'grapes', 'string', 9, 'A', '@', True]\n",
            "['string', 9, 'A', '@', True]\n"
          ]
        }
      ]
    },
    {
      "cell_type": "code",
      "source": [
        "num=[1,7,8,6,5]\n",
        "num.sort()\n",
        "print(num)"
      ],
      "metadata": {
        "colab": {
          "base_uri": "https://localhost:8080/"
        },
        "id": "8cZGnYQCh0bP",
        "outputId": "45a7a4c2-2326-4a9d-d8cc-30bd7fac42f6"
      },
      "execution_count": null,
      "outputs": [
        {
          "output_type": "stream",
          "name": "stdout",
          "text": [
            "[1, 5, 6, 7, 8]\n"
          ]
        }
      ]
    },
    {
      "cell_type": "code",
      "source": [
        "num=[1,7,8,6,5]\n",
        "num.sort()\n",
        "print(num)\n",
        "num.sort(reverse=True)\n",
        "print(num)"
      ],
      "metadata": {
        "colab": {
          "base_uri": "https://localhost:8080/"
        },
        "id": "_letzHGKiYcr",
        "outputId": "be9f1bd3-fbb8-4cf2-b0ca-da39ebd9d23f"
      },
      "execution_count": null,
      "outputs": [
        {
          "output_type": "stream",
          "name": "stdout",
          "text": [
            "[1, 5, 6, 7, 8]\n",
            "[8, 7, 6, 5, 1]\n"
          ]
        }
      ]
    },
    {
      "cell_type": "code",
      "source": [
        "num=['b','a','q','p']\n",
        "num.sort()\n",
        "print(num)\n",
        "num.sort(reverse=True)\n",
        "print(num)"
      ],
      "metadata": {
        "colab": {
          "base_uri": "https://localhost:8080/"
        },
        "id": "CizuBN-kionv",
        "outputId": "8006dae8-12a0-490f-c660-9964e9257b41"
      },
      "execution_count": null,
      "outputs": [
        {
          "output_type": "stream",
          "name": "stdout",
          "text": [
            "['a', 'b', 'p', 'q']\n",
            "['q', 'p', 'b', 'a']\n"
          ]
        }
      ]
    },
    {
      "cell_type": "code",
      "source": [
        "fruit=[\"apple\",\"orange\",\"mango\",\"pine apple\",\"grapes\"]\n",
        "for i in fruit:\n",
        "  print(i)\n"
      ],
      "metadata": {
        "colab": {
          "base_uri": "https://localhost:8080/"
        },
        "id": "fN5Iw30ji37n",
        "outputId": "4bafa2a0-4425-45ab-8049-9d7efbbee3bb"
      },
      "execution_count": null,
      "outputs": [
        {
          "output_type": "stream",
          "name": "stdout",
          "text": [
            "apple\n",
            "orange\n",
            "mango\n",
            "pine apple\n",
            "grapes\n"
          ]
        }
      ]
    },
    {
      "cell_type": "code",
      "source": [
        "fruit=[\"apple\",\"orange\",\"mango\",\"pine apple\",\"grapes\"]\n",
        "print((len(fruit)))\n",
        "for i in range(len(fruit)):\n",
        "  print(fruit[i])"
      ],
      "metadata": {
        "colab": {
          "base_uri": "https://localhost:8080/"
        },
        "id": "7tMA59vikos2",
        "outputId": "c6b6907d-bc04-4c31-a12f-416589f443d3"
      },
      "execution_count": null,
      "outputs": [
        {
          "output_type": "stream",
          "name": "stdout",
          "text": [
            "5\n",
            "apple\n",
            "orange\n",
            "mango\n",
            "pine apple\n",
            "grapes\n"
          ]
        }
      ]
    },
    {
      "cell_type": "code",
      "source": [
        "fruit=[\"apple\",\"orange\",\"mango\",\"pine apple\",\"grapes\"]\n",
        "print((len(fruit)))\n",
        "i=0\n",
        "while i<len(fruit):\n",
        "  print(fruit[i])\n",
        "  i+=1"
      ],
      "metadata": {
        "colab": {
          "base_uri": "https://localhost:8080/"
        },
        "id": "7x_yc0IZk3m2",
        "outputId": "cfa8ef18-f145-42bb-f8ad-5071cd9fc449"
      },
      "execution_count": null,
      "outputs": [
        {
          "output_type": "stream",
          "name": "stdout",
          "text": [
            "5\n",
            "apple\n",
            "orange\n",
            "mango\n",
            "pine apple\n",
            "grapes\n"
          ]
        }
      ]
    },
    {
      "cell_type": "code",
      "source": [
        "num=[1,2,3,4,5,6,7,8]\n",
        "for i in range(len(num)):\n",
        "  if(i%2==0):\n",
        "    print(num[i])"
      ],
      "metadata": {
        "colab": {
          "base_uri": "https://localhost:8080/"
        },
        "id": "roXQ1wzanmtN",
        "outputId": "18f06de8-7f68-4dae-a8ca-9011e206fca4"
      },
      "execution_count": null,
      "outputs": [
        {
          "output_type": "stream",
          "name": "stdout",
          "text": [
            "1\n",
            "3\n",
            "5\n",
            "7\n"
          ]
        }
      ]
    },
    {
      "cell_type": "code",
      "source": [
        ""
      ],
      "metadata": {
        "id": "YsnP3jpQu3oE"
      },
      "execution_count": null,
      "outputs": []
    }
  ]
}